{
 "cells": [
  {
   "cell_type": "code",
   "execution_count": 1,
   "id": "c79a97ec",
   "metadata": {},
   "outputs": [],
   "source": [
    "#setup library\n",
    "import tkinter as tk\n",
    "from tkinter import messagebox\n",
    "from tkinter.filedialog import asksaveasfilename,askopenfilename\n",
    "\n",
    "#make use of buttons\n",
    "def save_file():\n",
    "    file_location=asksaveasfilename(defaultextension=\"txt\",filetypes=[(\"text files\",\"*.txt\"),(\"all files\",\"*.*\")])\n",
    "    if not file_location:\n",
    "        return\n",
    "    with open(file_location,\"w\") as file_output:\n",
    "        text=text_edit.get(1.0,tk.END)\n",
    "        file_output.write(text)\n",
    "                                    \n",
    "    root.title(f\"MY NOTEPAD-{file_location}\")\n",
    "                                    \n",
    "def open_file():\n",
    "    file_location=askopenfilename(filetypes=[(\"text files\",\"*.txt\"),(\"all files\",\"*.*\")])\n",
    "    if not file_location:\n",
    "        return\n",
    "   \n",
    "    text_edit.delete(1.0,tk.END)\n",
    "    with open(file_location,\"r\") as file_input:\n",
    "        text=file_input.read()\n",
    "        text_edit.insert(tk.END,text)\n",
    "                                \n",
    "    root.title(f\"MY NOTEPAD-{file_location}\")\n",
    "\n",
    "#base\n",
    "root=tk.Tk()\n",
    "\n",
    "root.geometry(\"500x400\")\n",
    "\n",
    "root.title(\"My Notepad\")\n",
    "\n",
    "text_edit=tk.Text(root)\n",
    "text_edit.grid(row=0,column=1,sticky=\"nswe\")\n",
    "\n",
    "#add buttons\n",
    "frame_button=tk.Frame(root,relief=tk.RAISED,bd=3)\n",
    "frame_button.grid(row=0,column=0,sticky=\"ns\")\n",
    "\n",
    "button_open=tk.Button(frame_button,text=\"open\",command=open_file)\n",
    "button_open.grid(row=0,column=0,padx=5,pady=5)\n",
    "\n",
    "button_save=tk.Button(frame_button,text=\"save as\",command=save_file)\n",
    "button_save.grid(row=1,column=0,padx=5)\n",
    "\n",
    "root.mainloop()"
   ]
  },
  {
   "cell_type": "code",
   "execution_count": null,
   "id": "12a155c8",
   "metadata": {},
   "outputs": [],
   "source": []
  },
  {
   "cell_type": "code",
   "execution_count": null,
   "id": "0a5587ad",
   "metadata": {},
   "outputs": [],
   "source": []
  },
  {
   "cell_type": "code",
   "execution_count": null,
   "id": "31a2ea41",
   "metadata": {},
   "outputs": [],
   "source": []
  }
 ],
 "metadata": {
  "kernelspec": {
   "display_name": "Python 3 (ipykernel)",
   "language": "python",
   "name": "python3"
  },
  "language_info": {
   "codemirror_mode": {
    "name": "ipython",
    "version": 3
   },
   "file_extension": ".py",
   "mimetype": "text/x-python",
   "name": "python",
   "nbconvert_exporter": "python",
   "pygments_lexer": "ipython3",
   "version": "3.9.12"
  }
 },
 "nbformat": 4,
 "nbformat_minor": 5
}
